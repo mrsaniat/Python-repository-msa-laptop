{
 "cells": [
  {
   "cell_type": "markdown",
   "metadata": {},
   "source": [
    "# https://www.udemy.com/python-coding/learn/v4/t/lecture/5488088 (for question: check at 10:50 mins)"
   ]
  },
  {
   "cell_type": "code",
   "execution_count": 137,
   "metadata": {
    "collapsed": true
   },
   "outputs": [],
   "source": [
    "x = 100000000000"
   ]
  },
  {
   "cell_type": "code",
   "execution_count": 58,
   "metadata": {},
   "outputs": [],
   "source": [
    "import numpy as np\n",
    "from numpy.random import randn"
   ]
  },
  {
   "cell_type": "code",
   "execution_count": 59,
   "metadata": {},
   "outputs": [
    {
     "data": {
      "text/plain": [
       "0.6807084572012881"
      ]
     },
     "execution_count": 59,
     "metadata": {},
     "output_type": "execute_result"
    }
   ],
   "source": [
    "randn()"
   ]
  },
  {
   "cell_type": "code",
   "execution_count": 143,
   "metadata": {},
   "outputs": [
    {
     "name": "stdout",
     "output_type": "stream",
     "text": [
      "no. of iteration completed: 1000000 inside value appeared  683604 times, and outside value  316396 times\n",
      "E(x) =  0.683604\n"
     ]
    }
   ],
   "source": [
    "CountY = 0\n",
    "CountN = 0\n",
    "Avg = None\n",
    "for m in range(x):\n",
    "    #print (\"the if condition is executing\")\n",
    "    t = randn()\n",
    "    #print(\"t = \", t)    \n",
    "    if t >= -1 and t <= 1:\n",
    "        #print(\"t is between -1 and 1\")\n",
    "        CountY = CountY + 1\n",
    "        #print(\"Y:\", CountY)\n",
    "        \n",
    "    else:\n",
    "        #print(\"we are out of limit\")\n",
    "        CountN = CountN + 1\n",
    "        #print(\"N:\", CountN)\n",
    "\n",
    "print(\"no. of iteration completed:\", x , \"inside value appeared \", CountY , \"times, and outside value \" , CountN, \"times\")\n",
    "Avg = CountY / x\n",
    "print (\"E(x) = \", Avg)"
   ]
  }
 ],
 "metadata": {
  "kernelspec": {
   "display_name": "Python 3",
   "language": "python",
   "name": "python3"
  },
  "language_info": {
   "codemirror_mode": {
    "name": "ipython",
    "version": 3
   },
   "file_extension": ".py",
   "mimetype": "text/x-python",
   "name": "python",
   "nbconvert_exporter": "python",
   "pygments_lexer": "ipython3",
   "version": "3.6.1"
  }
 },
 "nbformat": 4,
 "nbformat_minor": 2
}
