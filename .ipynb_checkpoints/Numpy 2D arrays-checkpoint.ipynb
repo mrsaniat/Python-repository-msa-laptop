{
 "cells": [
  {
   "cell_type": "code",
   "execution_count": 17,
   "metadata": {},
   "outputs": [
    {
     "name": "stdout",
     "output_type": "stream",
     "text": [
      "my 2D list       : [[True, 2], [5, 'v', 33, 56]]\n",
      "my 2D numpy array: [[1, 3] [2, 0, 22, 4]]\n",
      "calculated array   : [[1, 3, 1, 3, 1, 3] [2, 0, 22, 4, 2, 0, 22, 4, 2, 0, 22, 4]]\n"
     ]
    }
   ],
   "source": [
    "#we can have 2D list:\n",
    "my_list = [[True,2],[5,\"v\",33,56]]\n",
    "print(\"my 2D list       :\", my_list)\n",
    "\n",
    "#similarly we can have 2D arrays:\n",
    "import numpy as np\n",
    "my_array = np.array([[1,3],[2,0,22,4]])\n",
    "print(\"my 2D numpy array:\",my_array)\n",
    "calc_array = my_array * 3\n",
    "print (\"calculated array   :\",calc_array)\n",
    "\n",
    "#keep in mind 2D numpy arrays need to be in a nxn matrix format, otherwise\n",
    "#python will create a array containing multiple lists\n",
    "#example: \n",
    "#my_array = np.array([[1,3],[2,0,22,4]])  - is an array containing two lists\n",
    "#my_array = np.array([[1,3],[2,0]])       - is a pure 2D array"
   ]
  },
  {
   "cell_type": "code",
   "execution_count": 25,
   "metadata": {},
   "outputs": [
    {
     "name": "stdout",
     "output_type": "stream",
     "text": [
      "ma0: [1, 2, 3, 4, 5, 6]\n",
      "m0_: [1, 2, 3, 4, 5, 6, 1, 2, 3, 4, 5, 6, 1, 2, 3, 4, 5, 6, 1, 2, 3, 4, 5, 6]\n",
      "ma1: [[1, 3] [2, 0, 22, 4]]\n",
      "ma1_: [[1, 3, 1, 3] [2, 0, 22, 4, 2, 0, 22, 4]]\n",
      "ma2: [ 1  3  2  0 22  4]\n",
      "ma2_: [ 2  6  4  0 44  8]\n"
     ]
    }
   ],
   "source": [
    "#seems like 2D numpy arrays do not follow the same calculation method as lists\n",
    "import numpy as np\n",
    "ma0 = [1,2,3,4,5,6]\n",
    "ma1 = np.array([[1,3],[2,0,22,4]])\n",
    "ma2 = np.array([1,3,2,0,22,4])\n",
    "print(\"ma0:\",ma0)\n",
    "print(\"m0_:\",ma0*4)\n",
    "print(\"ma1:\",ma1)\n",
    "print(\"ma1_:\",ma1*2)\n",
    "print(\"ma2:\",ma2)\n",
    "print(\"ma2_:\",ma2*2)"
   ]
  },
  {
   "cell_type": "code",
   "execution_count": 42,
   "metadata": {},
   "outputs": [
    {
     "name": "stdout",
     "output_type": "stream",
     "text": [
      "[[ 1  3  4  4]\n",
      " [ 2  0 22  4]]\n"
     ]
    }
   ],
   "source": [
    "#accessing values in numpy array\n",
    "import numpy as np\n",
    "my_array = np.array([[1,3,4,4],[2,0,22,4]])\n",
    "print(my_array)"
   ]
  },
  {
   "cell_type": "code",
   "execution_count": 37,
   "metadata": {},
   "outputs": [
    {
     "data": {
      "text/plain": [
       "array([1, 3, 3, 4])"
      ]
     },
     "execution_count": 37,
     "metadata": {},
     "output_type": "execute_result"
    }
   ],
   "source": [
    "my_array[0]"
   ]
  },
  {
   "cell_type": "code",
   "execution_count": 38,
   "metadata": {},
   "outputs": [
    {
     "data": {
      "text/plain": [
       "0"
      ]
     },
     "execution_count": 38,
     "metadata": {},
     "output_type": "execute_result"
    }
   ],
   "source": [
    "my_array[1][1]"
   ]
  },
  {
   "cell_type": "code",
   "execution_count": 43,
   "metadata": {},
   "outputs": [
    {
     "data": {
      "text/plain": [
       "0"
      ]
     },
     "execution_count": 43,
     "metadata": {},
     "output_type": "execute_result"
    }
   ],
   "source": [
    "my_array[1,1]"
   ]
  },
  {
   "cell_type": "code",
   "execution_count": null,
   "metadata": {
    "collapsed": true
   },
   "outputs": [],
   "source": []
  }
 ],
 "metadata": {
  "kernelspec": {
   "display_name": "Python 3",
   "language": "python",
   "name": "python3"
  },
  "language_info": {
   "codemirror_mode": {
    "name": "ipython",
    "version": 3
   },
   "file_extension": ".py",
   "mimetype": "text/x-python",
   "name": "python",
   "nbconvert_exporter": "python",
   "pygments_lexer": "ipython3",
   "version": "3.6.1"
  }
 },
 "nbformat": 4,
 "nbformat_minor": 2
}
