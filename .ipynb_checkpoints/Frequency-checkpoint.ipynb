{
 "cells": [
  {
   "cell_type": "code",
   "execution_count": 1,
   "metadata": {},
   "outputs": [
    {
     "name": "stdout",
     "output_type": "stream",
     "text": [
      "[['Batsman', 'Total'], ['DeVilliers', ' 1011'], ['John Snow', ' 100'], ['CDS', '123'], ['VDSA', '4324'], ['VDFG', '653'], ['VER', '764'], [], ['FGG', '76'], [], ['DGGJ', '123'], ['DGJ', '653'], ['DKJH', '764'], ['DLK', '12'], [], ['EQW', '431'], ['EZD', '431']]\n"
     ]
    }
   ],
   "source": [
    "import csv\n",
    "o = open(\"C:\\\\Users\\\\MSA\\\\Python-repository\\\\InterestingCSV.txt\")\n",
    "r = csv.reader(o)\n",
    "L = list(r)\n",
    "\n",
    "print (L)"
   ]
  },
  {
   "cell_type": "code",
   "execution_count": 21,
   "metadata": {},
   "outputs": [
    {
     "data": {
      "text/plain": [
       "Counter({'a': 2, 'b': 3, 'c': 1})"
      ]
     },
     "execution_count": 21,
     "metadata": {},
     "output_type": "execute_result"
    }
   ],
   "source": [
    "from collections import Counter\n",
    "Counter(['a', 'b', 'c', 'a', 'b', 'b'])\n",
    "#Counter({'a':2, 'b':3, 'c':1})\n",
    "#Counter(a=2, b=3, c=1)"
   ]
  },
  {
   "cell_type": "code",
   "execution_count": 49,
   "metadata": {
    "collapsed": true
   },
   "outputs": [],
   "source": [
    "#data\n",
    "from collections import Counter \n",
    "M = [\"lest,23\",\"22,lal\",\"True,lal\"]\n",
    "N = ['Batsman, Total', 'DeVilliers,  1011', 'John Snow,  100']\n",
    "O = [['Batsman', ' Total'], ['DeVilliers', '  1011'], ['John Snow', '  100']]\n",
    "P = ['Batsman', 'Total', 'DeVilliers',  '1011', 'John Snow',  '100']"
   ]
  },
  {
   "cell_type": "code",
   "execution_count": 51,
   "metadata": {},
   "outputs": [
    {
     "name": "stdout",
     "output_type": "stream",
     "text": [
      "['lest,23', '22,lal', 'True,lal']\n",
      "['Batsman, Total', 'DeVilliers,  1011', 'John Snow,  100']\n",
      "[['Batsman', ' Total'], ['DeVilliers', '  1011'], ['John Snow', '  100']]\n",
      "['Batsman', 'Total', 'DeVilliers', '1011', 'John Snow', '100']\n"
     ]
    }
   ],
   "source": [
    "print(M)\n",
    "print(N)\n",
    "print(O)\n",
    "print(P)\n",
    "\n",
    "#count = Counter(P)\n",
    "#count\n"
   ]
  },
  {
   "cell_type": "code",
   "execution_count": 56,
   "metadata": {},
   "outputs": [
    {
     "name": "stdout",
     "output_type": "stream",
     "text": [
      "Counter({'1': 4, 'a': 3, 'n': 3, 'o': 3, 'l': 3, '0': 3, 't': 2, 's': 2, 'e': 2, 'i': 2, 'B': 1, 'm': 1, 'T': 1, 'D': 1, 'V': 1, 'r': 1, 'J': 1, 'h': 1, ' ': 1, 'S': 1, 'w': 1})\n"
     ]
    }
   ],
   "source": [
    "### counts the frequency of each word\n",
    "### specially useful for 2D list\n",
    "\n",
    "c = Counter()\n",
    "for sublist in P:\n",
    "    c.update(sublist)\n",
    "    \n",
    "print(c)"
   ]
  },
  {
   "cell_type": "code",
   "execution_count": 35,
   "metadata": {},
   "outputs": [
    {
     "name": "stdout",
     "output_type": "stream",
     "text": [
      "['Batsman, Total', 'DeVilliers,  1011', 'John Snow,  100']\n",
      "[['Batsman', ' Total'], ['DeVilliers', '  1011'], ['John Snow', '  100']]\n"
     ]
    }
   ],
   "source": [
    "#testing\n",
    "from collections import Counter \n",
    "M = [\"lest\",\"lal\",\"lal\"]\n",
    "print(N)\n",
    "\n",
    "#split the list into single element list\n",
    "NL = []\n",
    "for rows in N:\n",
    "    NL_temp=rows.split(',')\n",
    "    NL.append(NL_temp)\n",
    "\n",
    "\n",
    "#count = Counter(L)\n",
    "#count\n",
    "print(NL)"
   ]
  },
  {
   "cell_type": "code",
   "execution_count": 11,
   "metadata": {},
   "outputs": [
    {
     "data": {
      "text/plain": [
       "[(('harvey', 'weinstein'), 4),\n",
       " (('share', 'this'), 3),\n",
       " (('in', 'the'), 3),\n",
       " (('she', 'was'), 2),\n",
       " (('by', 'weinstein'), 2),\n",
       " (('the', 'hollywood'), 2),\n",
       " (('the', 'academy'), 2),\n",
       " (('met', 'police'), 1),\n",
       " (('investigate', 'new'), 1),\n",
       " (('sex', 'assault'), 1)]"
      ]
     },
     "execution_count": 11,
     "metadata": {},
     "output_type": "execute_result"
    }
   ],
   "source": [
    "#counts the frequency of words used in the supplied \n",
    "import csv\n",
    "from collections import Counter\n",
    "import re\n",
    "#words = re.findall(\"red\", open(\"C:\\\\Users\\\\MSA\\\\Python-repository\\\\InterestingCSV2.txt\").read().lower())\n",
    "words = re.findall(r\"(\\w+) (\\w+)\", open(\"C:\\\\Users\\\\MSA\\\\Python-repository\\\\InterestingCSV2.txt\").read().lower())\n",
    "\n",
    "#open(\"C:\\\\Users\\\\MSA\\\\Python-repository\\\\InterestingCSV2.txt\").read().lower()\n",
    "Counter(words).most_common(10)"
   ]
  },
  {
   "cell_type": "code",
   "execution_count": null,
   "metadata": {
    "collapsed": true
   },
   "outputs": [],
   "source": []
  }
 ],
 "metadata": {
  "kernelspec": {
   "display_name": "Python 3",
   "language": "python",
   "name": "python3"
  },
  "language_info": {
   "codemirror_mode": {
    "name": "ipython",
    "version": 3
   },
   "file_extension": ".py",
   "mimetype": "text/x-python",
   "name": "python",
   "nbconvert_exporter": "python",
   "pygments_lexer": "ipython3",
   "version": "3.6.1"
  }
 },
 "nbformat": 4,
 "nbformat_minor": 2
}
