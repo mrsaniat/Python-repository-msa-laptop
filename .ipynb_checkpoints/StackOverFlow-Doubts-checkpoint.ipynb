{
 "cells": [
  {
   "cell_type": "code",
   "execution_count": null,
   "metadata": {
    "collapsed": true
   },
   "outputs": [],
   "source": [
    "#the 2nd output doesnt give me any results. Posted in stackoverflow\n",
    "#https://stackoverflow.com/questions/46747029/python-list-for-loop-confusion\n",
    "\n",
    "three_rows = [\"Albuquerque,749\", \"Anaheim,371\", \"Anchorage,828\"]\n",
    "#print(three_rows)  #1st output\n",
    "#three_rows[0]       #2nd output -- no response!\n",
    "\n",
    "final_list = []\n",
    "for row in three_rows:\n",
    "    split_list = row.split(',')\n",
    "    final_list.append(split_list)\n",
    "\n",
    "#print(three_rows)   #3rd output -- prints the whole list(expected)\n",
    "#three_rows[0]      #4th output -- prints the 2nd element(expected)\n",
    "#print(final_list)   #5th output -- prints the whole list(expected)\n",
    "#final_list[0]      #6th output -- prints the first element(expected)"
   ]
  }
 ],
 "metadata": {
  "kernelspec": {
   "display_name": "Python 3",
   "language": "python",
   "name": "python3"
  },
  "language_info": {
   "codemirror_mode": {
    "name": "ipython",
    "version": 3
   },
   "file_extension": ".py",
   "mimetype": "text/x-python",
   "name": "python",
   "nbconvert_exporter": "python",
   "pygments_lexer": "ipython3",
   "version": "3.6.1"
  }
 },
 "nbformat": 4,
 "nbformat_minor": 2
}
