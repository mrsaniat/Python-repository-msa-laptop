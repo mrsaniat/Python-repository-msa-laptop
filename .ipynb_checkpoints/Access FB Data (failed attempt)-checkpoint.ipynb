{
 "cells": [
  {
   "cell_type": "code",
   "execution_count": 6,
   "metadata": {},
   "outputs": [
    {
     "ename": "SyntaxError",
     "evalue": "Missing parentheses in call to 'print' (<ipython-input-6-974203a9ae50>, line 24)",
     "output_type": "error",
     "traceback": [
      "\u001b[1;36m  File \u001b[1;32m\"<ipython-input-6-974203a9ae50>\"\u001b[1;36m, line \u001b[1;32m24\u001b[0m\n\u001b[1;33m    print i[0],i[1]\u001b[0m\n\u001b[1;37m          ^\u001b[0m\n\u001b[1;31mSyntaxError\u001b[0m\u001b[1;31m:\u001b[0m Missing parentheses in call to 'print'\n"
     ]
    }
   ],
   "source": [
    "#source: http://www.thetaranights.com/mining-facebook-mining-the-social-web-using-python/\n",
    "#from pyfb import Pyfb\n",
    "import facebook    #sudo pip install facebook-sdk\n",
    "from collections import Counter\n",
    "import itertools\n",
    "# the access token should be stored as a string\n",
    "access_token = \"EAACEdEose0cBABSUJU2KWs8TLeMa7hxNRnkLNmXuaj67lItuZB2VRD6LsuL81ZCfy9lrzvGfQGxZAPkmPi0v8qSQ6fCt7ZBESBQicc38yRNQT4YrZBKGaynjKZCMupCSZCr4dYwLIk0dU6HHG4QGW8ZBZClMVjT0gp6omJG2TGU9MzWPRZCO2DgMNSDqb98UesNJZBZAZCERIqNYtcQZDZD\"\n",
    " \n",
    "g = facebook.GraphAPI(access_token) #creating connection to the Facebook Graph API through facebook-sdk\n",
    " \n",
    " \n",
    "friends = g.get_connections(\"me\", \"friends\")['data'] #getting the name and id of friends \n",
    " \n",
    "likes = { friend['name'] : g.get_connections(friend['id'], \"likes\")['data'] for friend in friends } #a dictionary comprehension to store\n",
    "#frined's name as key and liked page information as it's value\n",
    " \n",
    "friends_likes = Counter([like['name'] for friend in likes for like in likes[friend] if like.get('name')]) #counting the repetition of pages\n",
    "#and getting name of the page\n",
    " \n",
    "friends_likes_id = Counter ([like['id'] for friend in likes for like in likes[friend] if like.get('id')]) #getting id for the pages with\n",
    "#repetitions\n",
    " \n",
    "for i in friends_likes.most_common(10):    #getting the 10 most repeated pages amongst friends, returns a tupple with page name and no. of likes\n",
    "    \n",
    "    print i[0],i[1] \n",
    " \n",
    "for i,j in itertools.izip(friends_likes.most_common(10),friends_likes_id.most_common(10)): #using itertools to iterate through two items and printing the page name with the global likes\n",
    "    \n",
    "    print i[0],g.get_object(j[0])['likes']"
   ]
  },
  {
   "cell_type": "code",
   "execution_count": null,
   "metadata": {
    "collapsed": true
   },
   "outputs": [],
   "source": []
  }
 ],
 "metadata": {
  "kernelspec": {
   "display_name": "Python 3",
   "language": "python",
   "name": "python3"
  },
  "language_info": {
   "codemirror_mode": {
    "name": "ipython",
    "version": 3
   },
   "file_extension": ".py",
   "mimetype": "text/x-python",
   "name": "python",
   "nbconvert_exporter": "python",
   "pygments_lexer": "ipython3",
   "version": "3.6.1"
  }
 },
 "nbformat": 4,
 "nbformat_minor": 2
}
