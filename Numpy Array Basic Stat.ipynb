{
 "cells": [
  {
   "cell_type": "code",
   "execution_count": 17,
   "metadata": {},
   "outputs": [
    {
     "name": "stdout",
     "output_type": "stream",
     "text": [
      "[ 1.69  1.32  1.66  1.68  1.58]\n",
      "[ 88.31  76.17  63.09  63.85  72.5 ]\n",
      "[[  1.69  88.31]\n",
      " [  1.32  76.17]\n",
      " [  1.66  63.09]\n",
      " [  1.68  63.85]\n",
      " [  1.58  72.5 ]]\n"
     ]
    }
   ],
   "source": [
    "import numpy as np\n",
    "#np.random.normal(Mean, Standard Deviation, No of sample)\n",
    "height = np.round(np.random.normal(1.75,0.3,5),2)\n",
    "print(height)\n",
    "weight = np.round(np.random.normal(70,10,5),2)\n",
    "print(weight)\n",
    "\n",
    "bmidata = np.column_stack((height,weight))\n",
    "print(bmidata)"
   ]
  },
  {
   "cell_type": "code",
   "execution_count": 3,
   "metadata": {},
   "outputs": [
    {
     "ename": "NameError",
     "evalue": "name 'np' is not defined",
     "output_type": "error",
     "traceback": [
      "\u001b[1;31m---------------------------------------------------------------------------\u001b[0m",
      "\u001b[1;31mNameError\u001b[0m                                 Traceback (most recent call last)",
      "\u001b[1;32m<ipython-input-3-e99062a4d2f4>\u001b[0m in \u001b[0;36m<module>\u001b[1;34m()\u001b[0m\n\u001b[1;32m----> 1\u001b[1;33m \u001b[0mhelp\u001b[0m\u001b[1;33m(\u001b[0m\u001b[0mnp\u001b[0m\u001b[1;33m.\u001b[0m\u001b[0mrandom\u001b[0m\u001b[1;33m.\u001b[0m\u001b[0mnormal\u001b[0m\u001b[1;33m)\u001b[0m\u001b[1;33m\u001b[0m\u001b[0m\n\u001b[0m",
      "\u001b[1;31mNameError\u001b[0m: name 'np' is not defined"
     ]
    }
   ],
   "source": [
    "#help(np.random.normal)  ####### does not help\n",
    "#help(random.normal)     ####### does not help\n",
    "#Helps: https://docs.scipy.org/doc/numpy/reference/generated/numpy.random.normal.html"
   ]
  },
  {
   "cell_type": "code",
   "execution_count": null,
   "metadata": {
    "collapsed": true
   },
   "outputs": [],
   "source": []
  }
 ],
 "metadata": {
  "kernelspec": {
   "display_name": "Python 3",
   "language": "python",
   "name": "python3"
  },
  "language_info": {
   "codemirror_mode": {
    "name": "ipython",
    "version": 3
   },
   "file_extension": ".py",
   "mimetype": "text/x-python",
   "name": "python",
   "nbconvert_exporter": "python",
   "pygments_lexer": "ipython3",
   "version": "3.6.1"
  }
 },
 "nbformat": 4,
 "nbformat_minor": 2
}
