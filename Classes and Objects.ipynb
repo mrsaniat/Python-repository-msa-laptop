{
 "cells": [
  {
   "cell_type": "code",
   "execution_count": null,
   "metadata": {
    "collapsed": true
   },
   "outputs": [],
   "source": [
    "class Dataset:             #name of the class\n",
    "    def __init__(self):    #initiating function for a class, note:'double underscore'\n",
    "        self.type=\"csv\"    #self is a object, type is an attribute\n",
    "        \n",
    "        \n",
    "dataset = Dataset()        #creating an instance of Dataset() using dataset\n",
    "\n",
    "print(dataset.type)        #call the attribute 'type' of instance 'dataset'"
   ]
  },
  {
   "cell_type": "code",
   "execution_count": 3,
   "metadata": {
    "collapsed": true
   },
   "outputs": [],
   "source": [
    "class Employee:\n",
    "    pass #you cannot keep a class empty, you have to put in pass so python knows you will fill it in later"
   ]
  },
  {
   "cell_type": "markdown",
   "metadata": {},
   "source": [
    "link Part 2: https://www.youtube.com/watch?v=BJ-VvGyQxho"
   ]
  },
  {
   "cell_type": "code",
   "execution_count": 51,
   "metadata": {},
   "outputs": [
    {
     "name": "stdout",
     "output_type": "stream",
     "text": [
      "1.05\n",
      "1.09\n"
     ]
    },
    {
     "ename": "NameError",
     "evalue": "name 'emp_2' is not defined",
     "output_type": "error",
     "traceback": [
      "\u001b[1;31m---------------------------------------------------------------------------\u001b[0m",
      "\u001b[1;31mNameError\u001b[0m                                 Traceback (most recent call last)",
      "\u001b[1;32m<ipython-input-51-df80bddf4350>\u001b[0m in \u001b[0;36m<module>\u001b[1;34m()\u001b[0m\n\u001b[0;32m     42\u001b[0m \u001b[0mprint\u001b[0m\u001b[1;33m(\u001b[0m\u001b[0mEmployee\u001b[0m\u001b[1;33m.\u001b[0m\u001b[0mraise_rate\u001b[0m\u001b[1;33m)\u001b[0m\u001b[1;33m\u001b[0m\u001b[0m\n\u001b[0;32m     43\u001b[0m \u001b[0mprint\u001b[0m\u001b[1;33m(\u001b[0m\u001b[0memp_1\u001b[0m\u001b[1;33m.\u001b[0m\u001b[0mraise_rate\u001b[0m\u001b[1;33m)\u001b[0m\u001b[1;33m\u001b[0m\u001b[0m\n\u001b[1;32m---> 44\u001b[1;33m \u001b[0mprint\u001b[0m\u001b[1;33m(\u001b[0m\u001b[0memp_2\u001b[0m\u001b[1;33m.\u001b[0m\u001b[0mraise_rate\u001b[0m\u001b[1;33m)\u001b[0m\u001b[1;33m\u001b[0m\u001b[0m\n\u001b[0m",
      "\u001b[1;31mNameError\u001b[0m: name 'emp_2' is not defined"
     ]
    }
   ],
   "source": [
    "class Employee:\n",
    "    \n",
    "    raise_rate = 1.02\n",
    "    \n",
    "    def __init__(self, first, last, pay):\n",
    "        self.firstname = first   #self is initiating the class\n",
    "        self.lastname = last     #lastname is the variable where class stores+retrieves the value\n",
    "        self.payscale = pay      #pay is the incoming variable and should match with the argument with braces\n",
    "      \n",
    "    def FullName(self):\n",
    "        return '{} {}'.format(self.firstname, self.lastname)\n",
    "    \n",
    "    def FN(self):\n",
    "        self.fn =  str(self.firstname + \" \" + self.lastname) # + self.lastname\n",
    "        \n",
    "    def ApplyPayRaise(self):\n",
    "        self.final_pay = int(self.payscale * self.raise_rate)\n",
    "        \n",
    "emp_1 = Employee('Nagor','Dola',50)\n",
    "#print(emp_1.firstname)\n",
    "#print(emp_1.FullName())\n",
    "\n",
    "#emp_1.FN()\n",
    "#print(emp_1.ps)\n",
    "\n",
    "#when you initiate emp_1, the following two lines will do the same thing differently:\n",
    "#print(emp_1.FullName())\n",
    "#print(Employee.FullName(emp_1))\n",
    "\n",
    "#emp_1.FN()\n",
    "#emp_1.fn\n",
    "\n",
    "#emp_1.ApplyPayRaise()\n",
    "#print(emp_1.final_pay)\n",
    "\n",
    "#print(emp_1.__dict__)  #it only contains the main method values, not even the variable raise_rate\n",
    "#print(Employee.__dict__)  #it contains the raise rate\n",
    "\n",
    "emp_1.raise_rate = 1.09      #this will change the raise_rate amount for emp_1 only\n",
    "Employee.raise_rate = 1.05   #this wil lchange the raise_rate for all the employees\n",
    "\n",
    "print(Employee.raise_rate)\n",
    "print(emp_1.raise_rate)\n",
    "print(emp_2.raise_rate)"
   ]
  },
  {
   "cell_type": "code",
   "execution_count": 71,
   "metadata": {},
   "outputs": [
    {
     "name": "stdout",
     "output_type": "stream",
     "text": [
      "Before,Employee: 0\n",
      "Before,emp_1: 3\n",
      "After,Employee: 3\n",
      "After,emp_1: 3\n"
     ]
    }
   ],
   "source": [
    "class Employee:\n",
    "    \n",
    "    raise_rate = 1.02\n",
    "    No_of_Employee = 0\n",
    "    \n",
    "    def __init__(self, first, last, pay):\n",
    "        self.firstname = first   #self is initiating the class\n",
    "        self.lastname = last     #lastname is the variable where class stores+retrieves the value\n",
    "        self.payscale = pay      #pay is the incoming variable and should match with the argument with braces\n",
    "        \n",
    "        Employee.No_of_Employee += 1   #we are not using self here, because \n",
    "                                    #self changes based on the instance call\n",
    "                                    #We want this variable to be fixed whatever the instance is\n",
    "\n",
    "print(\"Before,Employee:\", Employee.No_of_Employee)\n",
    "print(\"Before,emp_1:\", emp_1.No_of_Employee)\n",
    "#print(emp_1.__dict__)\n",
    "\n",
    "emp_1 = Employee('Nagor','Dola',50)\n",
    "emp_2 = Employee('Sagor','Bhola',70)\n",
    "emp_3 = Employee('Fagor','Kola',60)\n",
    "\n",
    "print(\"After,Employee:\", Employee.No_of_Employee)\n",
    "print(\"After,emp_1:\", emp_1.No_of_Employee)"
   ]
  },
  {
   "cell_type": "markdown",
   "metadata": {},
   "source": [
    "continue Part 3: https://www.youtube.com/watch?v=rq8cL2XMM5M"
   ]
  },
  {
   "cell_type": "code",
   "execution_count": null,
   "metadata": {
    "collapsed": true
   },
   "outputs": [],
   "source": []
  }
 ],
 "metadata": {
  "kernelspec": {
   "display_name": "Python 3",
   "language": "python",
   "name": "python3"
  },
  "language_info": {
   "codemirror_mode": {
    "name": "ipython",
    "version": 3
   },
   "file_extension": ".py",
   "mimetype": "text/x-python",
   "name": "python",
   "nbconvert_exporter": "python",
   "pygments_lexer": "ipython3",
   "version": "3.6.1"
  }
 },
 "nbformat": 4,
 "nbformat_minor": 2
}
