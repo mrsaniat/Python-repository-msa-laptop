{
 "cells": [
  {
   "cell_type": "code",
   "execution_count": 27,
   "metadata": {},
   "outputs": [
    {
     "name": "stdout",
     "output_type": "stream",
     "text": [
      "[['Batsman', 'Total'], ['DeVilliers', ' 1011'], ['John Snow', ' 100'], ['CDS', '123'], ['VDSA', '4324'], ['VDFG', '653'], ['VER', '764'], [], ['FGG', '76'], [], ['DGGJ', '123'], ['DGJ', '653'], ['DKJH', '764'], ['DLK', '12'], [], ['EQW', '431'], ['EZD', '431']]\n"
     ]
    }
   ],
   "source": [
    "import csv\n",
    "o = open(\"C:\\\\Users\\\\MSA\\\\Python-repository\\\\InterestingCSV.txt\")\n",
    "r = csv.reader(o)\n",
    "L = list(r)\n",
    "\n",
    "print (L)"
   ]
  },
  {
   "cell_type": "code",
   "execution_count": 13,
   "metadata": {
    "collapsed": true
   },
   "outputs": [],
   "source": [
    "import collections\n",
    "wordcount = collections.Counter()\n",
    "for line in r:\n",
    "        wordcount.update(line.split())\n",
    "\n",
    "for k,v in wordcount.items():\n",
    "    print (k, v)"
   ]
  },
  {
   "cell_type": "code",
   "execution_count": 39,
   "metadata": {},
   "outputs": [
    {
     "name": "stdout",
     "output_type": "stream",
     "text": [
      "['Batsman, Total', 'DeVilliers,  1011', 'John Snow,  100']\n",
      "[['Batsman', ' Total'], ['DeVilliers', '  1011'], ['John Snow', '  100']]\n"
     ]
    }
   ],
   "source": [
    "L1 = [\"Batsman, Total\", \"DeVilliers,  1011\",\"John Snow,  100\"]\n",
    "L2 = []\n",
    "for K in L1:\n",
    "    split_list = K.split(',')\n",
    "    L2.append(split_list)\n",
    "print(L1)\n",
    "print(L2)"
   ]
  },
  {
   "cell_type": "code",
   "execution_count": 83,
   "metadata": {},
   "outputs": [
    {
     "name": "stdout",
     "output_type": "stream",
     "text": [
      "['Albuquerque,749', 'Anaheim,371', 'Anchorage,828']\n",
      "[['Albuquerque', '749'], ['Anaheim', '371'], ['Anchorage', '828']]\n"
     ]
    }
   ],
   "source": [
    "#the 2nd output doesnt give me any results. Posted in stackoverflow\n",
    "#https://stackoverflow.com/questions/46747029/python-list-for-loop-confusion\n",
    "\n",
    "three_rows = [\"Albuquerque,749\", \"Anaheim,371\", \"Anchorage,828\"]\n",
    "#print(three_rows)    #1st output\n",
    "#three_rows\n",
    "#three_rows[0]        #2nd output -- no response!\n",
    "#print(three_rows[0])  #works, soln from stackoverflow\n",
    "\n",
    "\n",
    "final_list = []\n",
    "for row in three_rows:\n",
    "    split_list = row.split(',')\n",
    "    final_list.append(split_list)\n",
    "\n",
    "#print(three_rows)   #3rd output -- prints the whole list(expected)\n",
    "#three_rows[0]      #4th output -- prints the 2nd element(expected)\n",
    "#print(final_list)   #5th output -- prints the whole list(expected)\n",
    "#final_list[0]      #6th output -- prints the first element(expected)"
   ]
  },
  {
   "cell_type": "code",
   "execution_count": 49,
   "metadata": {},
   "outputs": [
    {
     "data": {
      "text/plain": [
       "'Anaheim,371'"
      ]
     },
     "execution_count": 49,
     "metadata": {},
     "output_type": "execute_result"
    }
   ],
   "source": [
    "three_rows = [\"Albuquerque,749\", \"Anaheim,371\", \"Anchorage,828\"]\n",
    "three_rows[1]"
   ]
  },
  {
   "cell_type": "code",
   "execution_count": 37,
   "metadata": {},
   "outputs": [
    {
     "data": {
      "text/plain": [
       "list"
      ]
     },
     "execution_count": 37,
     "metadata": {},
     "output_type": "execute_result"
    }
   ],
   "source": [
    "type(three_rows)"
   ]
  },
  {
   "cell_type": "code",
   "execution_count": null,
   "metadata": {
    "collapsed": true
   },
   "outputs": [],
   "source": [
    "my_list = ['rabon,5','kabon,6','shabon,2','gebon,11']\n"
   ]
  }
 ],
 "metadata": {
  "kernelspec": {
   "display_name": "Python 3",
   "language": "python",
   "name": "python3"
  },
  "language_info": {
   "codemirror_mode": {
    "name": "ipython",
    "version": 3
   },
   "file_extension": ".py",
   "mimetype": "text/x-python",
   "name": "python",
   "nbconvert_exporter": "python",
   "pygments_lexer": "ipython3",
   "version": "3.6.1"
  }
 },
 "nbformat": 4,
 "nbformat_minor": 2
}
